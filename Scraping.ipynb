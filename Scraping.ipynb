{
 "cells": [
  {
   "cell_type": "code",
   "execution_count": 2,
   "id": "66f40b4d",
   "metadata": {},
   "outputs": [],
   "source": [
    "import requests\n",
    "from bs4 import BeautifulSoup\n",
    "import pandas as pd\n",
    "from tqdm import tqdm\n",
    "import time"
   ]
  },
  {
   "cell_type": "code",
   "execution_count": 12,
   "id": "63b243cf",
   "metadata": {},
   "outputs": [],
   "source": [
    "def cleanString(s):\n",
    "    return s.replace('\\n', '').replace('\\r', '').strip()"
   ]
  },
  {
   "cell_type": "code",
   "execution_count": 13,
   "id": "a89b6d0f",
   "metadata": {},
   "outputs": [],
   "source": [
    "def processHTML(soup, index, URL):\n",
    "    class_name_name = \"hero-card-panel-head__name\"\n",
    "    hero_name = soup.find(class_=class_name_name).text\n",
    "    str_details = []\n",
    "    str_details.append(str(index))\n",
    "    str_details.append(cleanString(hero_name))\n",
    "    \n",
    "    class_name_details = \"heroes_person_details_list\"\n",
    "    hero_details_table_headers = soup.find(class_=class_name_details).find_all('dt')\n",
    "    \n",
    "    birth_date = ''\n",
    "    birth_place = ''\n",
    "    title = ''\n",
    "    military_unit = ''\n",
    "    for table_header in hero_details_table_headers:\n",
    "        table_header_text = cleanString(table_header.text)\n",
    "        next_sibling_text = cleanString(table_header.next_sibling.next_sibling.text)\n",
    "        \n",
    "        if table_header_text == 'Дата рождения':\n",
    "            birth_date = next_sibling_text\n",
    "            \n",
    "        if table_header_text == 'Место рождения':\n",
    "            birth_place = next_sibling_text\n",
    "        \n",
    "        if table_header_text == 'Воинское звание':\n",
    "            title = next_sibling_text\n",
    "            \n",
    "        if table_header_text == 'Воинская часть':\n",
    "            military_unit = next_sibling_text\n",
    "    \n",
    "    str_details.append(birth_date)\n",
    "    str_details.append(birth_place)\n",
    "    str_details.append(title)\n",
    "    str_details.append(military_unit)\n",
    "    str_details.append(URL)\n",
    "\n",
    "    return str_details"
   ]
  },
  {
   "cell_type": "code",
   "execution_count": 14,
   "id": "05d69fb5",
   "metadata": {},
   "outputs": [],
   "source": [
    "def tryGetHero(index):\n",
    "    URL = \"https://pamyat-naroda.ru/heroes/person-hero\" + str(index) + \"/\"\n",
    "\n",
    "    try:\n",
    "        # не по всем урлам есть герой. если ответа нет > 0.5s, то переходим к след url\n",
    "        page = requests.get(URL, timeout=0.5)\n",
    "    except Exception as e:\n",
    "        return\n",
    "\n",
    "    try:\n",
    "        soup = BeautifulSoup(page.content, \"html.parser\")\n",
    "        return processHTML(soup, index, URL)\n",
    "    except Exception as e:\n",
    "        return"
   ]
  },
  {
   "cell_type": "code",
   "execution_count": 20,
   "id": "684f1f96",
   "metadata": {},
   "outputs": [
    {
     "name": "stderr",
     "output_type": "stream",
     "text": [
      "100%|█████████████████████████████████████████████████████████████████████████████████████████████████████████████████████████████████████████████████████████████████████████████████| 10/10 [00:03<00:00,  2.64it/s]\n"
     ]
    }
   ],
   "source": [
    "heroes = []\n",
    "for i in tqdm(range(10)):\n",
    "# for i in tqdm(range(1000000000)):\n",
    "    hero = tryGetHero(i)\n",
    "\n",
    "    if hero:\n",
    "        heroes.append(hero)\n",
    "        \n",
    "    # time.sleep(???) # в секундах"
   ]
  },
  {
   "cell_type": "code",
   "execution_count": null,
   "id": "f4df8833",
   "metadata": {},
   "outputs": [],
   "source": [
    "print(len(heroes))"
   ]
  },
  {
   "cell_type": "code",
   "execution_count": 134,
   "id": "1f21ca8e",
   "metadata": {},
   "outputs": [],
   "source": [
    "df = pd.DataFrame(heroes, columns = ['id', 'name', 'birth date', 'birth place', 'title', 'military unit', 'link'])\n",
    " \n",
    "df.to_csv('./heroes.csv', index=False)"
   ]
  }
 ],
 "metadata": {
  "kernelspec": {
   "display_name": "Playground venv",
   "language": "python",
   "name": "venv"
  },
  "language_info": {
   "codemirror_mode": {
    "name": "ipython",
    "version": 3
   },
   "file_extension": ".py",
   "mimetype": "text/x-python",
   "name": "python",
   "nbconvert_exporter": "python",
   "pygments_lexer": "ipython3",
   "version": "3.8.9"
  }
 },
 "nbformat": 4,
 "nbformat_minor": 5
}
